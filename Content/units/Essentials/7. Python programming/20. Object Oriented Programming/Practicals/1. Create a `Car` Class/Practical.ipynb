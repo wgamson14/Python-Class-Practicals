{
  "cells": [
    {
      "cell_type": "markdown",
      "id": "84369184",
      "metadata": {
        "id": "84369184"
      },
      "source": [
        "# Create a `Car` Class"
      ]
    },
    {
      "cell_type": "markdown",
      "id": "a7c2f870",
      "metadata": {
        "id": "a7c2f870"
      },
      "source": [
        "#### 1. Create a `Car` class"
      ]
    },
    {
      "cell_type": "code",
      "execution_count": null,
      "id": "ca65b59f",
      "metadata": {
        "id": "ca65b59f"
      },
      "outputs": [],
      "source": []
    },
    {
      "cell_type": "markdown",
      "id": "34900e8d",
      "metadata": {
        "id": "34900e8d"
      },
      "source": [
        "#### 2. Define the constructor for the class:\n",
        "- It takes in two arguments (other than `self`), and assign their values as attributes of the instance:\n",
        "    - One called `model` (e.g. Tesla), which has no default\n",
        "    - One called `year`, which is an integer, which defaults to the current year (just hard code the current year in)\n",
        "- It also defines a new attribute (remember that is not passed as an argument):\n",
        "     - One called `miles_driven`, which is set to zero"
      ]
    },
    {
      "cell_type": "code",
      "execution_count": null,
      "id": "c01f2310",
      "metadata": {
        "id": "c01f2310"
      },
      "outputs": [],
      "source": []
    },
    {
      "cell_type": "markdown",
      "id": "4e7d63b5",
      "metadata": {
        "id": "4e7d63b5"
      },
      "source": [
        "#### 3. Create a method called `drive`\n",
        "\n",
        "- It prints \"vroom\" and increment the instance's `miles_driven` attribute by 1"
      ]
    },
    {
      "cell_type": "code",
      "execution_count": null,
      "id": "b4f31c34",
      "metadata": {
        "id": "b4f31c34"
      },
      "outputs": [],
      "source": []
    },
    {
      "cell_type": "markdown",
      "id": "f6fdabf4",
      "metadata": {
        "id": "f6fdabf4"
      },
      "source": [
        "#### 4. Create a method called `info`\n",
        "\n",
        "- It prints the number of miles driven, the model name and the year"
      ]
    },
    {
      "cell_type": "code",
      "execution_count": null,
      "id": "0807d613",
      "metadata": {
        "id": "0807d613"
      },
      "outputs": [],
      "source": []
    },
    {
      "cell_type": "markdown",
      "id": "1954b876",
      "metadata": {
        "id": "1954b876"
      },
      "source": [
        "#### 5. Initialiase the class and call all the methods\n",
        "\n",
        "- Give the instance the model name \"Tesla\" and the year 2019.\n",
        "- Call the `drive` method 5 times\n",
        "- Call the `info` method. It should print something like \"5 miles driven, Tesla, 2019\"\n"
      ]
    },
    {
      "cell_type": "code",
      "execution_count": 61,
      "id": "0a51d328",
      "metadata": {
        "id": "0a51d328"
      },
      "outputs": [],
      "source": [
        "\n"
      ]
    },
    {
      "cell_type": "code",
      "source": [
        "class Car:\n",
        "  def __init__(self, model, year):\n",
        "    self.model = model\n",
        "    self.year = year\n",
        "    self.miles_driven = 0\n",
        "\n",
        "  def drive(self):\n",
        "    self.miles_driven += 1\n",
        "    print(\"vroom\")\n",
        "\n",
        "  def info(self):\n",
        "    print(f'The car has driven {self.miles_driven} miles. Model Name: {self.model}. Year: {self.year}')\n",
        "\n"
      ],
      "metadata": {
        "id": "SdF2mdyU83Nh"
      },
      "id": "SdF2mdyU83Nh",
      "execution_count": 5,
      "outputs": []
    },
    {
      "cell_type": "code",
      "source": [
        "my_car = Car(\"Tesla\", 2019)\n",
        "\n",
        "my_car.drive()\n",
        "my_car.drive()\n",
        "my_car.drive()\n",
        "my_car.drive()\n",
        "my_car.drive()\n",
        "\n",
        "my_car.info()"
      ],
      "metadata": {
        "id": "lD2bR8ie-GQl",
        "outputId": "a5491a62-c53a-4d9d-d471-389ddef53b5e",
        "colab": {
          "base_uri": "https://localhost:8080/"
        }
      },
      "id": "lD2bR8ie-GQl",
      "execution_count": 6,
      "outputs": [
        {
          "output_type": "stream",
          "name": "stdout",
          "text": [
            "vroom\n",
            "vroom\n",
            "vroom\n",
            "vroom\n",
            "vroom\n",
            "The car has driven 5 miles. Model Name: Tesla. Year: 2019\n"
          ]
        }
      ]
    },
    {
      "cell_type": "code",
      "source": [],
      "metadata": {
        "id": "v4-01uAg-axw"
      },
      "id": "v4-01uAg-axw",
      "execution_count": null,
      "outputs": []
    }
  ],
  "metadata": {
    "kernelspec": {
      "display_name": "content-projects_new",
      "language": "python",
      "name": "python3"
    },
    "language_info": {
      "name": "python",
      "version": "3.10.8 (main, Nov 24 2022, 14:13:03) [GCC 11.2.0]"
    },
    "vscode": {
      "interpreter": {
        "hash": "4b961f8166aad6ccb4cf65d0f9c742ef9c6c23ffe83ad932438cd83ed96aebaf"
      }
    },
    "colab": {
      "provenance": []
    }
  },
  "nbformat": 4,
  "nbformat_minor": 5
}